{
 "cells": [
  {
   "cell_type": "code",
   "execution_count": 2,
   "metadata": {},
   "outputs": [],
   "source": [
    "import numpy as np\n",
    "import matplotlib.pyplot as plt \n",
    "import pandas as pd \n"
   ]
  },
  {
   "cell_type": "code",
   "execution_count": 3,
   "metadata": {},
   "outputs": [
    {
     "name": "stdout",
     "output_type": "stream",
     "text": [
      "   song_id keyword_1  keyword_2  keyword_3      genre\n",
      "0       74    guitar      happy  distorted       rock\n",
      "1      103     brass  energetic    melodic  classical\n",
      "2      201     banjo      happy   acoustic    country\n",
      "3      194     synth  energetic      heavy    hip-hop\n",
      "4      184     synth  energetic       slow    hip-hop\n"
     ]
    },
    {
     "data": {
      "text/html": [
       "<div>\n",
       "<style scoped>\n",
       "    .dataframe tbody tr th:only-of-type {\n",
       "        vertical-align: middle;\n",
       "    }\n",
       "\n",
       "    .dataframe tbody tr th {\n",
       "        vertical-align: top;\n",
       "    }\n",
       "\n",
       "    .dataframe thead th {\n",
       "        text-align: right;\n",
       "    }\n",
       "</style>\n",
       "<table border=\"1\" class=\"dataframe\">\n",
       "  <thead>\n",
       "    <tr style=\"text-align: right;\">\n",
       "      <th></th>\n",
       "      <th>song_id</th>\n",
       "      <th>keyword_1</th>\n",
       "      <th>keyword_2</th>\n",
       "      <th>keyword_3</th>\n",
       "      <th>genre</th>\n",
       "    </tr>\n",
       "  </thead>\n",
       "  <tbody>\n",
       "    <tr>\n",
       "      <th>0</th>\n",
       "      <td>74</td>\n",
       "      <td>guitar</td>\n",
       "      <td>happy</td>\n",
       "      <td>distorted</td>\n",
       "      <td>rock</td>\n",
       "    </tr>\n",
       "    <tr>\n",
       "      <th>6</th>\n",
       "      <td>63</td>\n",
       "      <td>guitar</td>\n",
       "      <td>energetic</td>\n",
       "      <td>melodic</td>\n",
       "      <td>rock</td>\n",
       "    </tr>\n",
       "    <tr>\n",
       "      <th>7</th>\n",
       "      <td>59</td>\n",
       "      <td>guitar</td>\n",
       "      <td>happy</td>\n",
       "      <td>heavy</td>\n",
       "      <td>rock</td>\n",
       "    </tr>\n",
       "    <tr>\n",
       "      <th>15</th>\n",
       "      <td>61</td>\n",
       "      <td>guitar</td>\n",
       "      <td>mellow</td>\n",
       "      <td>upbeat</td>\n",
       "      <td>rock</td>\n",
       "    </tr>\n",
       "    <tr>\n",
       "      <th>18</th>\n",
       "      <td>49</td>\n",
       "      <td>guitar</td>\n",
       "      <td>happy</td>\n",
       "      <td>upbeat</td>\n",
       "      <td>rock</td>\n",
       "    </tr>\n",
       "  </tbody>\n",
       "</table>\n",
       "</div>"
      ],
      "text/plain": [
       "    song_id keyword_1  keyword_2  keyword_3 genre\n",
       "0        74    guitar      happy  distorted  rock\n",
       "6        63    guitar  energetic    melodic  rock\n",
       "7        59    guitar      happy      heavy  rock\n",
       "15       61    guitar     mellow     upbeat  rock\n",
       "18       49    guitar      happy     upbeat  rock"
      ]
     },
     "execution_count": 3,
     "metadata": {},
     "output_type": "execute_result"
    }
   ],
   "source": [
    "data = pd.read_csv('TASK2_dataset.csv')\n",
    "print(data.head())\n",
    "\n",
    "unique_kw1 = list(data['keyword_1'].unique())\n",
    "unique_kw2 = list(data['keyword_2'].unique())\n",
    "unique_kw3 = list(data['keyword_3'].unique())\n",
    "unique_genre = list(data['genre'].unique())\n",
    "\n",
    "grouped_data = data.groupby('genre')\n",
    "\n",
    "rock = grouped_data.get_group('rock')\n",
    "pop = grouped_data.get_group('pop')\n",
    "hiphop = grouped_data.get_group('hip-hop')\n",
    "country = grouped_data.get_group('country')\n",
    "classical = grouped_data.get_group('classical')\n",
    "\n",
    "rock.head()"
   ]
  },
  {
   "cell_type": "markdown",
   "metadata": {},
   "source": [
    "further due to time constraint , i have to submit this much part only\n",
    "but the idea i have \n",
    "i will try to use the genre given as the basis of training set \n",
    "and train my algorithm to let me know the genre of the remaining combination of the keys\n",
    "with that the accuracy would be very high (21% recieved in earlier one ) and will do in sometime , but cant submit \n"
   ]
  }
 ],
 "metadata": {
  "kernelspec": {
   "display_name": "Python 3",
   "language": "python",
   "name": "python3"
  },
  "language_info": {
   "codemirror_mode": {
    "name": "ipython",
    "version": 3
   },
   "file_extension": ".py",
   "mimetype": "text/x-python",
   "name": "python",
   "nbconvert_exporter": "python",
   "pygments_lexer": "ipython3",
   "version": "3.12.8"
  }
 },
 "nbformat": 4,
 "nbformat_minor": 2
}
