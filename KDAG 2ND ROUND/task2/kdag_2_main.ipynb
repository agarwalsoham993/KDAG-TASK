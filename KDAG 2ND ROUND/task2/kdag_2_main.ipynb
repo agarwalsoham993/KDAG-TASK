{
 "cells": [
  {
   "cell_type": "markdown",
   "id": "5fab956c-f7da-4535-acf0-2ad25794a438",
   "metadata": {},
   "source": [
    "KDAG task round \n",
    "problem 2\n",
    "SOHAM AGARWAL\n",
    "24CH10039"
   ]
  },
  {
   "cell_type": "markdown",
   "id": "64566b13",
   "metadata": {},
   "source": [
    "# ASKED CODE"
   ]
  },
  {
   "cell_type": "code",
   "execution_count": 71,
   "id": "47598e49-4f51-437d-a0bf-3dab3ab1550b",
   "metadata": {},
   "outputs": [],
   "source": [
    "import numpy as np\n",
    "import matplotlib.pyplot as plt\n",
    "import pandas as pd"
   ]
  },
  {
   "cell_type": "markdown",
   "id": "b5b26104-0934-49e5-8ba1-2c03b8815ef8",
   "metadata": {},
   "source": [
    "## functions defined"
   ]
  },
  {
   "cell_type": "code",
   "execution_count": 72,
   "id": "f502b96e-3814-4978-aa07-c1c7e4459f39",
   "metadata": {},
   "outputs": [],
   "source": [
    "def boW(inp_column):\n",
    "    unique_words = list(inp_column.unique())\n",
    "    #creating a bow_array just like tf_matrix\n",
    "    # unique_words = inp_column.unique()\n",
    "    boW_array = np.zeros((len(inp_column), len(unique_words)))\n",
    "    \n",
    "    #to count the no of times a word from the unique word list is present in one row (1/0)\n",
    "    for i, keywords in enumerate(inp_column):\n",
    "        song_keywords=keywords.split()\n",
    "        for word in song_keywords:\n",
    "            if word in unique_words:\n",
    "                boW_array[i, unique_words.index(word)]+=1 #getting the count it is repeated\n",
    "    \n",
    "    bow_df = pd.DataFrame(boW_array,columns=unique_words)\n",
    "    return boW_array,bow_df"
   ]
  },
  {
   "cell_type": "code",
   "execution_count": 73,
   "id": "944d043a-2f4a-4b1c-85de-04336809d830",
   "metadata": {},
   "outputs": [],
   "source": [
    "def tfidf_vectorize(inp_column):\n",
    "    unique_words = list(inp_column.unique())\n",
    "    \n",
    "    # directly using bow instead of tf\n",
    "    idf_matrix = np.zeros(len(unique_words))\n",
    "    #calculating idf means in how many items that keyword has repeated among all the items\n",
    "    for i, word in enumerate(unique_words):\n",
    "        item_count = sum(1 for song_keywords in inp_column if word in song_keywords)\n",
    "        # Calculate IDF\n",
    "        idf_matrix[i] = np.log((1 + len(inp_column)) / (1 + item_count)) +1  \n",
    "        # Earlier without using the +1 , the elements were becoming undefined \n",
    "        #so added +1 to avoid the undefined cases like log(0)/log(infinite)\n",
    "\n",
    "    tfidf_array = boW(inp_column)[0]*idf_matrix\n",
    "    norms = np.linalg.norm(tfidf_array, axis=1, keepdims=True)\n",
    "    tfidf_array = tfidf_array / norms\n",
    "    \n",
    "    return tfidf_array"
   ]
  },
  {
   "cell_type": "code",
   "execution_count": 74,
   "id": "8f29dbe7-56d6-47a4-b72a-c08a32db80ff",
   "metadata": {},
   "outputs": [],
   "source": [
    "def standardize_data(data):\n",
    "    mean = np.mean(data, axis=0)\n",
    "    std = np.std(data, axis=0)\n",
    "    standardized_data = (data - mean) /(std)\n",
    "    return standardized_data\n"
   ]
  },
  {
   "cell_type": "code",
   "execution_count": 75,
   "id": "9206f160-ba4b-41e5-a551-c86eac31576f",
   "metadata": {},
   "outputs": [],
   "source": [
    "def pca_decomp(data):\n",
    "    cov_array = np.cov(standardize_data(data), rowvar=False) #signifies the relation between how two keywords depend upon on each other\n",
    "    eigenvectors = np.linalg.eig(cov_array)[1]\n",
    "\n",
    "    df1 = pd.DataFrame(np.linalg.eig(cov_array)[0],columns = ['eigenvalues']) \n",
    "    df2 = pd.DataFrame(eigenvectors)\n",
    "    df = pd.concat([df1,df2],axis=1)\n",
    "    df.sort_values(by='eigenvalues',ascending=False,inplace=True)\n",
    "    pca_result = np.dot(standardize_data(data), df.iloc[:,1:].to_numpy()[:, :2])\n",
    "    return pca_result"
   ]
  },
  {
   "cell_type": "code",
   "execution_count": 76,
   "id": "4ca8c823-bd1f-4077-aa28-5ace232d2a48",
   "metadata": {},
   "outputs": [],
   "source": [
    "k=5 #define the number of clusters\n",
    "def kmeans(data, k= k, max_iterations=100):\n",
    "    centroids = data[np.random.choice(data.shape[0], k, replace=False)]\n",
    "\n",
    "    for _ in range(max_iterations):\n",
    "        distances = np.sqrt(((data - centroids[:, np.newaxis])**2).sum(axis=2))\n",
    "        labels = np.argmin(distances, axis=0)\n",
    "        new_centroids = np.array([data[labels == i].mean(axis=0) for i in range(k)])\n",
    "\n",
    "        # If the centroids don't change\n",
    "        if np.all(centroids == new_centroids):\n",
    "            break\n",
    "        # centroids = new_centroids\n",
    "    return labels, new_centroids, centroids"
   ]
  },
  {
   "cell_type": "code",
   "execution_count": 77,
   "id": "cb583a15-ae6a-41a5-ac49-527ea4d37d5b",
   "metadata": {},
   "outputs": [],
   "source": [
    "def silhouette_score(data, labels):\n",
    "    (rows,columns) = data.shape\n",
    "    label = np.unique(labels)\n",
    "\n",
    "    self_d = np.zeros(rows)\n",
    "    \n",
    "    other_d = np.zeros(rows)\n",
    "    \n",
    "    for i in range(rows):\n",
    "        #finding distance with all the points in the same cluster\n",
    "        cluster_label = labels[i]\n",
    "        cluster_points = data[labels == cluster_label]\n",
    "        self_d[i] = np.mean(np.linalg.norm(cluster_points - data[i], axis=1))\n",
    "        \n",
    "        other_d[i] = np.inf\n",
    "        for other_label in label:\n",
    "            #finding distance with all the points in the other cluster\n",
    "            if other_label != cluster_label:\n",
    "                points = data[labels == other_label]\n",
    "                avg_dist = np.mean(np.linalg.norm(points- data[i], axis=1))\n",
    "                if avg_dist < other_d[i]:\n",
    "                    other_d[i] = avg_dist\n",
    "\n",
    "    s = (other_d - self_d) / np.maximum(self_d , other_d)\n",
    "    return np.mean(s)"
   ]
  },
  {
   "cell_type": "markdown",
   "id": "1aef7eed-8809-4d19-ad18-742eef181b89",
   "metadata": {},
   "source": [
    "## importing the data"
   ]
  },
  {
   "cell_type": "code",
   "execution_count": 78,
   "id": "a82057c6-ce67-4762-acfa-b80760d1179b",
   "metadata": {},
   "outputs": [
    {
     "name": "stdout",
     "output_type": "stream",
     "text": [
      "   song_id keyword_1  keyword_2  keyword_3      genre\n",
      "0       74    guitar      happy  distorted       rock\n",
      "1      103     brass  energetic    melodic  classical\n",
      "2      201     banjo      happy   acoustic    country\n",
      "3      194     synth  energetic      heavy    hip-hop\n",
      "4      184     synth  energetic       slow    hip-hop\n",
      "(147, 5)\n"
     ]
    }
   ],
   "source": [
    "data =pd.read_csv('TASK2_dataset.csv')    #importing the dataset into the machine\n",
    "print(data.head())\n",
    "print(data.shape)"
   ]
  },
  {
   "cell_type": "code",
   "execution_count": 79,
   "id": "d1b45f25-238e-4c6c-8c91-0156f3479820",
   "metadata": {},
   "outputs": [],
   "source": [
    "unique_kw1 = list(data['keyword_1'].unique())\n",
    "unique_kw2 = list(data['keyword_2'].unique())\n",
    "unique_kw3 = list(data['keyword_3'].unique())\n",
    "unique_words = unique_kw1 + unique_kw2 + unique_kw3"
   ]
  },
  {
   "cell_type": "markdown",
   "id": "9e260cd8-1b73-4e4c-aaef-584b35ec7a80",
   "metadata": {},
   "source": [
    "## tf_idf vectorization & pca"
   ]
  },
  {
   "cell_type": "code",
   "execution_count": 80,
   "id": "400c5cce-dcf2-4070-9e12-ffddd11ea064",
   "metadata": {
    "scrolled": true
   },
   "outputs": [],
   "source": [
    "tfidf_kw1= tfidf_vectorize(data['keyword_1'])\n",
    "pca_1= pca_decomp(tfidf_kw1)\n",
    "\n",
    "tfidf_kw2 = tfidf_vectorize(data['keyword_2'])\n",
    "pca_2 = pca_decomp(tfidf_kw2)\n",
    "\n",
    "tfidf_kw3= tfidf_vectorize(data['keyword_3'])\n",
    "pca_3= pca_decomp(tfidf_kw3)"
   ]
  },
  {
   "cell_type": "code",
   "execution_count": 81,
   "id": "628b4d0a-aca0-449d-aefe-a3fe12e7f72c",
   "metadata": {},
   "outputs": [
    {
     "data": {
      "text/html": [
       "<div>\n",
       "<style scoped>\n",
       "    .dataframe tbody tr th:only-of-type {\n",
       "        vertical-align: middle;\n",
       "    }\n",
       "\n",
       "    .dataframe tbody tr th {\n",
       "        vertical-align: top;\n",
       "    }\n",
       "\n",
       "    .dataframe thead th {\n",
       "        text-align: right;\n",
       "    }\n",
       "</style>\n",
       "<table border=\"1\" class=\"dataframe\">\n",
       "  <thead>\n",
       "    <tr style=\"text-align: right;\">\n",
       "      <th></th>\n",
       "      <th>PC1</th>\n",
       "      <th>PC2</th>\n",
       "    </tr>\n",
       "  </thead>\n",
       "  <tbody>\n",
       "    <tr>\n",
       "      <th>0</th>\n",
       "      <td>0.777807</td>\n",
       "      <td>2.090152</td>\n",
       "    </tr>\n",
       "    <tr>\n",
       "      <th>1</th>\n",
       "      <td>-0.209755</td>\n",
       "      <td>0.092165</td>\n",
       "    </tr>\n",
       "    <tr>\n",
       "      <th>2</th>\n",
       "      <td>-0.608017</td>\n",
       "      <td>0.384740</td>\n",
       "    </tr>\n",
       "    <tr>\n",
       "      <th>3</th>\n",
       "      <td>0.357954</td>\n",
       "      <td>0.204393</td>\n",
       "    </tr>\n",
       "    <tr>\n",
       "      <th>4</th>\n",
       "      <td>0.207561</td>\n",
       "      <td>0.098906</td>\n",
       "    </tr>\n",
       "    <tr>\n",
       "      <th>...</th>\n",
       "      <td>...</td>\n",
       "      <td>...</td>\n",
       "    </tr>\n",
       "    <tr>\n",
       "      <th>142</th>\n",
       "      <td>-0.211577</td>\n",
       "      <td>-0.070257</td>\n",
       "    </tr>\n",
       "    <tr>\n",
       "      <th>143</th>\n",
       "      <td>0.228590</td>\n",
       "      <td>0.043702</td>\n",
       "    </tr>\n",
       "    <tr>\n",
       "      <th>144</th>\n",
       "      <td>0.327357</td>\n",
       "      <td>-1.485883</td>\n",
       "    </tr>\n",
       "    <tr>\n",
       "      <th>145</th>\n",
       "      <td>0.213562</td>\n",
       "      <td>0.044713</td>\n",
       "    </tr>\n",
       "    <tr>\n",
       "      <th>146</th>\n",
       "      <td>0.315680</td>\n",
       "      <td>0.112854</td>\n",
       "    </tr>\n",
       "  </tbody>\n",
       "</table>\n",
       "<p>147 rows × 2 columns</p>\n",
       "</div>"
      ],
      "text/plain": [
       "          PC1       PC2\n",
       "0    0.777807  2.090152\n",
       "1   -0.209755  0.092165\n",
       "2   -0.608017  0.384740\n",
       "3    0.357954  0.204393\n",
       "4    0.207561  0.098906\n",
       "..        ...       ...\n",
       "142 -0.211577 -0.070257\n",
       "143  0.228590  0.043702\n",
       "144  0.327357 -1.485883\n",
       "145  0.213562  0.044713\n",
       "146  0.315680  0.112854\n",
       "\n",
       "[147 rows x 2 columns]"
      ]
     },
     "execution_count": 81,
     "metadata": {},
     "output_type": "execute_result"
    }
   ],
   "source": [
    "#creating the final array and its dataframe\n",
    "tfidf_pca_array= np.cbrt(0.6*(pca_1**3)+0.2*(pca_2**3)+0.2*(pca_3**3))\n",
    "k_tfidf_sep = pd.DataFrame(tfidf_pca_array,columns=[\"PC1\",\"PC2\"])\n",
    "k_tfidf_sep"
   ]
  },
  {
   "cell_type": "markdown",
   "id": "dd872986-57f3-4543-96f9-9ea1aca49004",
   "metadata": {},
   "source": [
    "## bow &  its pca analysis"
   ]
  },
  {
   "cell_type": "code",
   "execution_count": 82,
   "id": "70b05aeb-4323-4da8-aee5-6d7dea578992",
   "metadata": {
    "scrolled": true
   },
   "outputs": [],
   "source": [
    "#bow method for finding which is the best possible outcome\n",
    "boW_array1,bow_df1=boW(data[\"keyword_1\"])\n",
    "bow_pca_Arr1 = pca_decomp(bow_df1)\n",
    "\n",
    "boW_array2,bow_df2=boW(data[\"keyword_2\"])\n",
    "bow_pca_Arr2= pca_decomp(bow_df2)\n",
    "\n",
    "boW_array3,bow_df3=boW(data[\"keyword_3\"])\n",
    "bow_pca_Arr3 = pca_decomp(bow_df3)"
   ]
  },
  {
   "cell_type": "code",
   "execution_count": 83,
   "id": "f050aecb-46fe-4645-a13b-78612cb45b1e",
   "metadata": {},
   "outputs": [
    {
     "data": {
      "text/html": [
       "<div>\n",
       "<style scoped>\n",
       "    .dataframe tbody tr th:only-of-type {\n",
       "        vertical-align: middle;\n",
       "    }\n",
       "\n",
       "    .dataframe tbody tr th {\n",
       "        vertical-align: top;\n",
       "    }\n",
       "\n",
       "    .dataframe thead th {\n",
       "        text-align: right;\n",
       "    }\n",
       "</style>\n",
       "<table border=\"1\" class=\"dataframe\">\n",
       "  <thead>\n",
       "    <tr style=\"text-align: right;\">\n",
       "      <th></th>\n",
       "      <th>PC1</th>\n",
       "      <th>PC2</th>\n",
       "    </tr>\n",
       "  </thead>\n",
       "  <tbody>\n",
       "    <tr>\n",
       "      <th>0</th>\n",
       "      <td>0.777807</td>\n",
       "      <td>2.090152</td>\n",
       "    </tr>\n",
       "    <tr>\n",
       "      <th>1</th>\n",
       "      <td>-0.209755</td>\n",
       "      <td>0.092165</td>\n",
       "    </tr>\n",
       "    <tr>\n",
       "      <th>2</th>\n",
       "      <td>-0.608017</td>\n",
       "      <td>0.384740</td>\n",
       "    </tr>\n",
       "    <tr>\n",
       "      <th>3</th>\n",
       "      <td>0.357954</td>\n",
       "      <td>0.204393</td>\n",
       "    </tr>\n",
       "    <tr>\n",
       "      <th>4</th>\n",
       "      <td>0.207561</td>\n",
       "      <td>0.098906</td>\n",
       "    </tr>\n",
       "    <tr>\n",
       "      <th>...</th>\n",
       "      <td>...</td>\n",
       "      <td>...</td>\n",
       "    </tr>\n",
       "    <tr>\n",
       "      <th>142</th>\n",
       "      <td>-0.211577</td>\n",
       "      <td>-0.070257</td>\n",
       "    </tr>\n",
       "    <tr>\n",
       "      <th>143</th>\n",
       "      <td>0.228590</td>\n",
       "      <td>0.043702</td>\n",
       "    </tr>\n",
       "    <tr>\n",
       "      <th>144</th>\n",
       "      <td>0.327357</td>\n",
       "      <td>-1.485883</td>\n",
       "    </tr>\n",
       "    <tr>\n",
       "      <th>145</th>\n",
       "      <td>0.213562</td>\n",
       "      <td>0.044713</td>\n",
       "    </tr>\n",
       "    <tr>\n",
       "      <th>146</th>\n",
       "      <td>0.315680</td>\n",
       "      <td>0.112854</td>\n",
       "    </tr>\n",
       "  </tbody>\n",
       "</table>\n",
       "<p>147 rows × 2 columns</p>\n",
       "</div>"
      ],
      "text/plain": [
       "          PC1       PC2\n",
       "0    0.777807  2.090152\n",
       "1   -0.209755  0.092165\n",
       "2   -0.608017  0.384740\n",
       "3    0.357954  0.204393\n",
       "4    0.207561  0.098906\n",
       "..        ...       ...\n",
       "142 -0.211577 -0.070257\n",
       "143  0.228590  0.043702\n",
       "144  0.327357 -1.485883\n",
       "145  0.213562  0.044713\n",
       "146  0.315680  0.112854\n",
       "\n",
       "[147 rows x 2 columns]"
      ]
     },
     "execution_count": 83,
     "metadata": {},
     "output_type": "execute_result"
    }
   ],
   "source": [
    "#combining the data in the array version itself \n",
    "#just to average it out dividing by 3\n",
    "bow_pca_array = np.cbrt(0.6*(bow_pca_Arr1**3)+0.2*(bow_pca_Arr2**3)+0.2*(bow_pca_Arr3**3))\n",
    "k_bow_sep= pd.DataFrame(bow_pca_array,columns = [\"PC1\",\"PC2\"])\n",
    "k_bow_sep"
   ]
  },
  {
   "cell_type": "markdown",
   "id": "6502a585-a681-42f7-852e-06e0bac81664",
   "metadata": {},
   "source": [
    "## kmeans analysis"
   ]
  },
  {
   "cell_type": "markdown",
   "id": "6bcf8cf3-209a-446d-b1e0-5843dd44802e",
   "metadata": {},
   "source": [
    "### kmeans tfidf"
   ]
  },
  {
   "cell_type": "code",
   "execution_count": 84,
   "id": "1c19d636-e756-429f-935a-f8190dd85bca",
   "metadata": {},
   "outputs": [
    {
     "data": {
      "text/plain": [
       "array([[ 0.01209873,  0.27885004],\n",
       "       [ 0.28795762, -0.42343052],\n",
       "       [ 0.30161954,  0.38114003],\n",
       "       [-0.42939267,  2.04472326],\n",
       "       [-0.49773192, -0.69941982]])"
      ]
     },
     "execution_count": 84,
     "metadata": {},
     "output_type": "execute_result"
    }
   ],
   "source": [
    "labels_tfidf,centroids_tfidf= kmeans(tfidf_pca_array)[0],kmeans(tfidf_pca_array)[1]\n",
    "\n",
    "k_tfidf_sep['cluster'] = labels_tfidf\n",
    "centroids_tfidf"
   ]
  },
  {
   "cell_type": "code",
   "execution_count": 85,
   "id": "6731e667-ea50-4e5f-b29c-522f6da85769",
   "metadata": {},
   "outputs": [
    {
     "data": {
      "image/png": "[encoded data removed]",
      "text/plain": [
       "<Figure size 800x600 with 1 Axes>"
      ]
     },
     "metadata": {},
     "output_type": "display_data"
    }
   ],
   "source": [
    "# Visualize clusters\n",
    "plt.figure(figsize=(8, 6))\n",
    "for i in range(k):\n",
    "    plt.scatter(k_tfidf_sep[k_tfidf_sep['cluster'] == i]['PC1'], \n",
    "                k_tfidf_sep[k_tfidf_sep['cluster'] == i]['PC2'], \n",
    "                label=f'Cluster {i}', alpha=0.6)\n",
    "plt.scatter(centroids_tfidf[:, 0], centroids_tfidf[:, 1], marker='X', s=200, c='black', label='Centroids')\n",
    "plt.title('expected output tfidf seperate')\n",
    "plt.xlabel('Principal Component 1 (Keyword 1)')\n",
    "plt.ylabel('Principal Component 2 (Keyword 1)')\n",
    "plt.legend()\n",
    "plt.grid()\n",
    "plt.show()"
   ]
  },
  {
   "cell_type": "markdown",
   "id": "d954212e-08a9-4305-905f-b82819a47c40",
   "metadata": {},
   "source": [
    "### kmeans bow"
   ]
  },
  {
   "cell_type": "code",
   "execution_count": 86,
   "id": "946833ef-f7ff-49de-9804-30eee9fa1682",
   "metadata": {},
   "outputs": [
    {
     "data": {
      "text/html": [
       "<div>\n",
       "<style scoped>\n",
       "    .dataframe tbody tr th:only-of-type {\n",
       "        vertical-align: middle;\n",
       "    }\n",
       "\n",
       "    .dataframe tbody tr th {\n",
       "        vertical-align: top;\n",
       "    }\n",
       "\n",
       "    .dataframe thead th {\n",
       "        text-align: right;\n",
       "    }\n",
       "</style>\n",
       "<table border=\"1\" class=\"dataframe\">\n",
       "  <thead>\n",
       "    <tr style=\"text-align: right;\">\n",
       "      <th></th>\n",
       "      <th>PC1</th>\n",
       "      <th>PC2</th>\n",
       "      <th>cluster</th>\n",
       "    </tr>\n",
       "  </thead>\n",
       "  <tbody>\n",
       "    <tr>\n",
       "      <th>0</th>\n",
       "      <td>0.777807</td>\n",
       "      <td>2.090152</td>\n",
       "      <td>2</td>\n",
       "    </tr>\n",
       "    <tr>\n",
       "      <th>1</th>\n",
       "      <td>-0.209755</td>\n",
       "      <td>0.092165</td>\n",
       "      <td>3</td>\n",
       "    </tr>\n",
       "    <tr>\n",
       "      <th>2</th>\n",
       "      <td>-0.608017</td>\n",
       "      <td>0.384740</td>\n",
       "      <td>0</td>\n",
       "    </tr>\n",
       "    <tr>\n",
       "      <th>3</th>\n",
       "      <td>0.357954</td>\n",
       "      <td>0.204393</td>\n",
       "      <td>0</td>\n",
       "    </tr>\n",
       "    <tr>\n",
       "      <th>4</th>\n",
       "      <td>0.207561</td>\n",
       "      <td>0.098906</td>\n",
       "      <td>0</td>\n",
       "    </tr>\n",
       "    <tr>\n",
       "      <th>...</th>\n",
       "      <td>...</td>\n",
       "      <td>...</td>\n",
       "      <td>...</td>\n",
       "    </tr>\n",
       "    <tr>\n",
       "      <th>142</th>\n",
       "      <td>-0.211577</td>\n",
       "      <td>-0.070257</td>\n",
       "      <td>3</td>\n",
       "    </tr>\n",
       "    <tr>\n",
       "      <th>143</th>\n",
       "      <td>0.228590</td>\n",
       "      <td>0.043702</td>\n",
       "      <td>4</td>\n",
       "    </tr>\n",
       "    <tr>\n",
       "      <th>144</th>\n",
       "      <td>0.327357</td>\n",
       "      <td>-1.485883</td>\n",
       "      <td>1</td>\n",
       "    </tr>\n",
       "    <tr>\n",
       "      <th>145</th>\n",
       "      <td>0.213562</td>\n",
       "      <td>0.044713</td>\n",
       "      <td>4</td>\n",
       "    </tr>\n",
       "    <tr>\n",
       "      <th>146</th>\n",
       "      <td>0.315680</td>\n",
       "      <td>0.112854</td>\n",
       "      <td>0</td>\n",
       "    </tr>\n",
       "  </tbody>\n",
       "</table>\n",
       "<p>147 rows × 3 columns</p>\n",
       "</div>"
      ],
      "text/plain": [
       "          PC1       PC2  cluster\n",
       "0    0.777807  2.090152        2\n",
       "1   -0.209755  0.092165        3\n",
       "2   -0.608017  0.384740        0\n",
       "3    0.357954  0.204393        0\n",
       "4    0.207561  0.098906        0\n",
       "..        ...       ...      ...\n",
       "142 -0.211577 -0.070257        3\n",
       "143  0.228590  0.043702        4\n",
       "144  0.327357 -1.485883        1\n",
       "145  0.213562  0.044713        4\n",
       "146  0.315680  0.112854        0\n",
       "\n",
       "[147 rows x 3 columns]"
      ]
     },
     "execution_count": 86,
     "metadata": {},
     "output_type": "execute_result"
    }
   ],
   "source": [
    "bow_labels, bow_centroids , centro= kmeans(bow_pca_array)\n",
    "\n",
    "k_bow_sep['cluster'] = bow_labels\n",
    "k_bow_sep"
   ]
  },
  {
   "cell_type": "code",
   "execution_count": 87,
   "id": "511dd0ef-2777-4d78-bebc-9694c3ec1131",
   "metadata": {},
   "outputs": [
    {
     "data": {
      "image/png": "[encoded data removed]",
      "text/plain": [
       "<Figure size 800x600 with 1 Axes>"
      ]
     },
     "metadata": {},
     "output_type": "display_data"
    }
   ],
   "source": [
    "plt.figure(figsize=(8, 6))\n",
    "for i in range(k):\n",
    "    plt.scatter(k_bow_sep[k_bow_sep['cluster'] == i]['PC1'],\n",
    "                k_bow_sep[k_bow_sep['cluster'] == i]['PC2'], label=f'Cluster {i}', alpha = 0.6)\n",
    "plt.scatter(bow_centroids[:, 0], bow_centroids[:, 1], marker='X', s=200, c='black', label='Centroids')\n",
    "plt.title('expected output bow seperate')\n",
    "plt.xlabel('Principal Component 1 (Keyword 1)')\n",
    "plt.ylabel('Principal Component 2 (Keyword 1)')\n",
    "plt.legend()\n",
    "plt.grid()\n",
    "plt.show()"
   ]
  },
  {
   "cell_type": "markdown",
   "id": "7d70e806-9420-45a1-97af-a6e841e1832c",
   "metadata": {},
   "source": [
    "## silhoutte score "
   ]
  },
  {
   "cell_type": "code",
   "execution_count": 88,
   "id": "9dbfb8e9-e3b5-4412-bfd9-260d9005b4d6",
   "metadata": {},
   "outputs": [
    {
     "name": "stdout",
     "output_type": "stream",
     "text": [
      "Silhouette Score (TF seperate): -0.16\n"
     ]
    }
   ],
   "source": [
    "silhouette_tfidf = silhouette_score(tfidf_pca_array, labels_tfidf)\n",
    "print(f\"Silhouette Score (TF seperate): {silhouette_tfidf:.2f}\")\n",
    "score_tf = silhouette_tfidf\n"
   ]
  },
  {
   "cell_type": "code",
   "execution_count": 89,
   "id": "1588663c-823d-4340-b8e4-40320977e18d",
   "metadata": {},
   "outputs": [
    {
     "name": "stdout",
     "output_type": "stream",
     "text": [
      "Silhouette Score (bow seperate): 0.31\n"
     ]
    }
   ],
   "source": [
    "silhouette_bow = silhouette_score(bow_pca_array, bow_labels)\n",
    "print(f\"Silhouette Score (bow seperate): {silhouette_bow:.2f}\")\n",
    "score_bow = silhouette_bow"
   ]
  },
  {
   "cell_type": "markdown",
   "id": "ea503ce1",
   "metadata": {},
   "source": [
    "# ANALYSIS"
   ]
  },
  {
   "cell_type": "markdown",
   "id": "7ff3f618-d744-4874-9e1b-37cf82a7f4e4",
   "metadata": {},
   "source": [
    "## cluster Analysis percentage"
   ]
  },
  {
   "cell_type": "code",
   "execution_count": 90,
   "id": "416ee499-bc85-4c36-9b3e-93e78837dab5",
   "metadata": {},
   "outputs": [
    {
     "data": {
      "text/html": [
       "<div>\n",
       "<style scoped>\n",
       "    .dataframe tbody tr th:only-of-type {\n",
       "        vertical-align: middle;\n",
       "    }\n",
       "\n",
       "    .dataframe tbody tr th {\n",
       "        vertical-align: top;\n",
       "    }\n",
       "\n",
       "    .dataframe thead th {\n",
       "        text-align: right;\n",
       "    }\n",
       "</style>\n",
       "<table border=\"1\" class=\"dataframe\">\n",
       "  <thead>\n",
       "    <tr style=\"text-align: right;\">\n",
       "      <th>genre</th>\n",
       "      <th>classical</th>\n",
       "      <th>country</th>\n",
       "      <th>hip-hop</th>\n",
       "      <th>pop</th>\n",
       "      <th>rock</th>\n",
       "    </tr>\n",
       "    <tr>\n",
       "      <th>cluster</th>\n",
       "      <th></th>\n",
       "      <th></th>\n",
       "      <th></th>\n",
       "      <th></th>\n",
       "      <th></th>\n",
       "    </tr>\n",
       "  </thead>\n",
       "  <tbody>\n",
       "    <tr>\n",
       "      <th>0</th>\n",
       "      <td>0.000000</td>\n",
       "      <td>0.000000</td>\n",
       "      <td>50.000000</td>\n",
       "      <td>0.000000</td>\n",
       "      <td>50.000000</td>\n",
       "    </tr>\n",
       "    <tr>\n",
       "      <th>1</th>\n",
       "      <td>0.000000</td>\n",
       "      <td>27.777778</td>\n",
       "      <td>22.222222</td>\n",
       "      <td>22.222222</td>\n",
       "      <td>27.777778</td>\n",
       "    </tr>\n",
       "    <tr>\n",
       "      <th>2</th>\n",
       "      <td>14.851485</td>\n",
       "      <td>23.762376</td>\n",
       "      <td>21.782178</td>\n",
       "      <td>23.762376</td>\n",
       "      <td>15.841584</td>\n",
       "    </tr>\n",
       "    <tr>\n",
       "      <th>3</th>\n",
       "      <td>75.000000</td>\n",
       "      <td>0.000000</td>\n",
       "      <td>0.000000</td>\n",
       "      <td>25.000000</td>\n",
       "      <td>0.000000</td>\n",
       "    </tr>\n",
       "    <tr>\n",
       "      <th>4</th>\n",
       "      <td>37.500000</td>\n",
       "      <td>0.000000</td>\n",
       "      <td>0.000000</td>\n",
       "      <td>0.000000</td>\n",
       "      <td>62.500000</td>\n",
       "    </tr>\n",
       "  </tbody>\n",
       "</table>\n",
       "</div>"
      ],
      "text/plain": [
       "genre    classical    country    hip-hop        pop       rock\n",
       "cluster                                                       \n",
       "0         0.000000   0.000000  50.000000   0.000000  50.000000\n",
       "1         0.000000  27.777778  22.222222  22.222222  27.777778\n",
       "2        14.851485  23.762376  21.782178  23.762376  15.841584\n",
       "3        75.000000   0.000000   0.000000  25.000000   0.000000\n",
       "4        37.500000   0.000000   0.000000   0.000000  62.500000"
      ]
     },
     "execution_count": 90,
     "metadata": {},
     "output_type": "execute_result"
    }
   ],
   "source": [
    "#for seperated keywords with tfidf\n",
    "# Calculate the percentage distribution of genres in each cluster\n",
    "tfidf_test = k_tfidf_sep.copy()\n",
    "tfidf_test[\"genre\"] = data[\"genre\"]\n",
    "cluster_genre_distribution = tfidf_test.groupby(['cluster','genre']).size().unstack(fill_value=0)\n",
    "\n",
    "# Normalize the distribution to percentages\n",
    "tfidf_sep_truth = cluster_genre_distribution.div(cluster_genre_distribution.sum(axis=1), axis=0) * 100\n",
    "\n",
    "# Display the genre distribution in each cluster\n",
    "tfidf_sep_truth"
   ]
  },
  {
   "cell_type": "code",
   "execution_count": 91,
   "id": "63983678-8d15-4d21-9cd0-b8b128988203",
   "metadata": {},
   "outputs": [
    {
     "data": {
      "text/html": [
       "<div>\n",
       "<style scoped>\n",
       "    .dataframe tbody tr th:only-of-type {\n",
       "        vertical-align: middle;\n",
       "    }\n",
       "\n",
       "    .dataframe tbody tr th {\n",
       "        vertical-align: top;\n",
       "    }\n",
       "\n",
       "    .dataframe thead th {\n",
       "        text-align: right;\n",
       "    }\n",
       "</style>\n",
       "<table border=\"1\" class=\"dataframe\">\n",
       "  <thead>\n",
       "    <tr style=\"text-align: right;\">\n",
       "      <th>genre</th>\n",
       "      <th>classical</th>\n",
       "      <th>country</th>\n",
       "      <th>hip-hop</th>\n",
       "      <th>pop</th>\n",
       "      <th>rock</th>\n",
       "    </tr>\n",
       "    <tr>\n",
       "      <th>cluster</th>\n",
       "      <th></th>\n",
       "      <th></th>\n",
       "      <th></th>\n",
       "      <th></th>\n",
       "      <th></th>\n",
       "    </tr>\n",
       "  </thead>\n",
       "  <tbody>\n",
       "    <tr>\n",
       "      <th>0</th>\n",
       "      <td>9.259259</td>\n",
       "      <td>24.074074</td>\n",
       "      <td>22.222222</td>\n",
       "      <td>20.370370</td>\n",
       "      <td>24.074074</td>\n",
       "    </tr>\n",
       "    <tr>\n",
       "      <th>1</th>\n",
       "      <td>23.076923</td>\n",
       "      <td>0.000000</td>\n",
       "      <td>19.230769</td>\n",
       "      <td>57.692308</td>\n",
       "      <td>0.000000</td>\n",
       "    </tr>\n",
       "    <tr>\n",
       "      <th>2</th>\n",
       "      <td>66.666667</td>\n",
       "      <td>0.000000</td>\n",
       "      <td>0.000000</td>\n",
       "      <td>0.000000</td>\n",
       "      <td>33.333333</td>\n",
       "    </tr>\n",
       "    <tr>\n",
       "      <th>3</th>\n",
       "      <td>18.518519</td>\n",
       "      <td>18.518519</td>\n",
       "      <td>29.629630</td>\n",
       "      <td>0.000000</td>\n",
       "      <td>33.333333</td>\n",
       "    </tr>\n",
       "    <tr>\n",
       "      <th>4</th>\n",
       "      <td>4.000000</td>\n",
       "      <td>44.000000</td>\n",
       "      <td>20.000000</td>\n",
       "      <td>20.000000</td>\n",
       "      <td>12.000000</td>\n",
       "    </tr>\n",
       "  </tbody>\n",
       "</table>\n",
       "</div>"
      ],
      "text/plain": [
       "genre    classical    country    hip-hop        pop       rock\n",
       "cluster                                                       \n",
       "0         9.259259  24.074074  22.222222  20.370370  24.074074\n",
       "1        23.076923   0.000000  19.230769  57.692308   0.000000\n",
       "2        66.666667   0.000000   0.000000   0.000000  33.333333\n",
       "3        18.518519  18.518519  29.629630   0.000000  33.333333\n",
       "4         4.000000  44.000000  20.000000  20.000000  12.000000"
      ]
     },
     "execution_count": 91,
     "metadata": {},
     "output_type": "execute_result"
    }
   ],
   "source": [
    "# for seperated keywords with bow\n",
    "bow_test = k_bow_sep.copy()\n",
    "bow_test[\"genre\"] = data[\"genre\"]\n",
    "cluster_genre_distribution = bow_test.groupby(['cluster', 'genre']).size().unstack(fill_value=0)\n",
    "\n",
    "# Normalize the distribution to percentages\n",
    "bow_sep_truth = cluster_genre_distribution.div(cluster_genre_distribution.sum(axis=1), axis=0) * 100\n",
    "\n",
    "# Display the genre distribution in each cluster\n",
    "bow_sep_truth\n"
   ]
  },
  {
   "cell_type": "code",
   "execution_count": 92,
   "id": "d76d9ef7",
   "metadata": {},
   "outputs": [],
   "source": [
    "percent = [tfidf_sep_truth, bow_sep_truth]\n",
    "if len(tfidf_sep_truth)== 4 and len(bow_sep_truth) == 4:\n",
    "    multi_index = pd.MultiIndex.from_tuples([\n",
    "        ('TF-IDF Seperate', '0'), ('TF-IDF Seperate', '1'), ('TF-IDF Seperate', '2'), ('TF-IDF Seperate', '3'),\n",
    "        ('BoW Seperate', '0'), ('BoW Seperate', '1'), ('BoW Seperate', '2'), ('BoW Seperate', '3'),\n",
    "    ], names=['name', 'cluster'])\n",
    "\n",
    "    percent_truth = pd.concat(percent)\n",
    "    percent_truth.index = multi_index\n",
    "    print(percent_truth)"
   ]
  },
  {
   "cell_type": "markdown",
   "id": "3e2ba448-0f7c-44c1-b460-54dec9e0908b",
   "metadata": {},
   "source": [
    "## pca testing using ground truth analysis"
   ]
  },
  {
   "cell_type": "code",
   "execution_count": 93,
   "id": "7f37921f-5994-447b-9414-c0fc7c4b58ea",
   "metadata": {},
   "outputs": [
    {
     "data": {
      "text/html": [
       "<div>\n",
       "<style scoped>\n",
       "    .dataframe tbody tr th:only-of-type {\n",
       "        vertical-align: middle;\n",
       "    }\n",
       "\n",
       "    .dataframe tbody tr th {\n",
       "        vertical-align: top;\n",
       "    }\n",
       "\n",
       "    .dataframe thead th {\n",
       "        text-align: right;\n",
       "    }\n",
       "</style>\n",
       "<table border=\"1\" class=\"dataframe\">\n",
       "  <thead>\n",
       "    <tr style=\"text-align: right;\">\n",
       "      <th></th>\n",
       "      <th>song_id</th>\n",
       "      <th>keyword_1</th>\n",
       "      <th>keyword_2</th>\n",
       "      <th>keyword_3</th>\n",
       "      <th>genre</th>\n",
       "      <th>true_clusters</th>\n",
       "    </tr>\n",
       "  </thead>\n",
       "  <tbody>\n",
       "    <tr>\n",
       "      <th>0</th>\n",
       "      <td>74</td>\n",
       "      <td>guitar</td>\n",
       "      <td>happy</td>\n",
       "      <td>distorted</td>\n",
       "      <td>rock</td>\n",
       "      <td>0.0</td>\n",
       "    </tr>\n",
       "    <tr>\n",
       "      <th>1</th>\n",
       "      <td>103</td>\n",
       "      <td>brass</td>\n",
       "      <td>energetic</td>\n",
       "      <td>melodic</td>\n",
       "      <td>classical</td>\n",
       "      <td>1.0</td>\n",
       "    </tr>\n",
       "    <tr>\n",
       "      <th>2</th>\n",
       "      <td>201</td>\n",
       "      <td>banjo</td>\n",
       "      <td>happy</td>\n",
       "      <td>acoustic</td>\n",
       "      <td>country</td>\n",
       "      <td>2.0</td>\n",
       "    </tr>\n",
       "    <tr>\n",
       "      <th>3</th>\n",
       "      <td>194</td>\n",
       "      <td>synth</td>\n",
       "      <td>energetic</td>\n",
       "      <td>heavy</td>\n",
       "      <td>hip-hop</td>\n",
       "      <td>3.0</td>\n",
       "    </tr>\n",
       "    <tr>\n",
       "      <th>4</th>\n",
       "      <td>184</td>\n",
       "      <td>synth</td>\n",
       "      <td>energetic</td>\n",
       "      <td>slow</td>\n",
       "      <td>hip-hop</td>\n",
       "      <td>3.0</td>\n",
       "    </tr>\n",
       "    <tr>\n",
       "      <th>...</th>\n",
       "      <td>...</td>\n",
       "      <td>...</td>\n",
       "      <td>...</td>\n",
       "      <td>...</td>\n",
       "      <td>...</td>\n",
       "      <td>...</td>\n",
       "    </tr>\n",
       "    <tr>\n",
       "      <th>142</th>\n",
       "      <td>195</td>\n",
       "      <td>synth</td>\n",
       "      <td>angry</td>\n",
       "      <td>melodic</td>\n",
       "      <td>hip-hop</td>\n",
       "      <td>3.0</td>\n",
       "    </tr>\n",
       "    <tr>\n",
       "      <th>143</th>\n",
       "      <td>7</td>\n",
       "      <td>guitar</td>\n",
       "      <td>energetic</td>\n",
       "      <td>fast</td>\n",
       "      <td>pop</td>\n",
       "      <td>4.0</td>\n",
       "    </tr>\n",
       "    <tr>\n",
       "      <th>144</th>\n",
       "      <td>14</td>\n",
       "      <td>guitar</td>\n",
       "      <td>happy</td>\n",
       "      <td>rhythmic</td>\n",
       "      <td>pop</td>\n",
       "      <td>4.0</td>\n",
       "    </tr>\n",
       "    <tr>\n",
       "      <th>145</th>\n",
       "      <td>36</td>\n",
       "      <td>synth</td>\n",
       "      <td>mellow</td>\n",
       "      <td>danceable</td>\n",
       "      <td>pop</td>\n",
       "      <td>4.0</td>\n",
       "    </tr>\n",
       "    <tr>\n",
       "      <th>146</th>\n",
       "      <td>29</td>\n",
       "      <td>synth</td>\n",
       "      <td>emotional</td>\n",
       "      <td>slow</td>\n",
       "      <td>pop</td>\n",
       "      <td>4.0</td>\n",
       "    </tr>\n",
       "  </tbody>\n",
       "</table>\n",
       "<p>147 rows × 6 columns</p>\n",
       "</div>"
      ],
      "text/plain": [
       "     song_id keyword_1  keyword_2  keyword_3      genre  true_clusters\n",
       "0         74    guitar      happy  distorted       rock            0.0\n",
       "1        103     brass  energetic    melodic  classical            1.0\n",
       "2        201     banjo      happy   acoustic    country            2.0\n",
       "3        194     synth  energetic      heavy    hip-hop            3.0\n",
       "4        184     synth  energetic       slow    hip-hop            3.0\n",
       "..       ...       ...        ...        ...        ...            ...\n",
       "142      195     synth      angry    melodic    hip-hop            3.0\n",
       "143        7    guitar  energetic       fast        pop            4.0\n",
       "144       14    guitar      happy   rhythmic        pop            4.0\n",
       "145       36     synth     mellow  danceable        pop            4.0\n",
       "146       29     synth  emotional       slow        pop            4.0\n",
       "\n",
       "[147 rows x 6 columns]"
      ]
     },
     "execution_count": 93,
     "metadata": {},
     "output_type": "execute_result"
    }
   ],
   "source": [
    "# ground truth column addition to the data \n",
    "true_clusters = np.zeros(len(data))\n",
    "\n",
    "unique_genre = (data['genre']).unique()\n",
    "\n",
    "for i,word in enumerate(data[\"genre\"]):\n",
    "    single=word.split()\n",
    "    for genre in single:\n",
    "        if genre == unique_genre[0]:\n",
    "            true_clusters[i] = 0\n",
    "        elif genre == unique_genre[1]:\n",
    "            true_clusters[i] = 1\n",
    "        elif genre == unique_genre[2]:\n",
    "            true_clusters[i] = 2\n",
    "        elif genre == unique_genre[3]:\n",
    "            true_clusters[i] = 3\n",
    "        elif genre == unique_genre[4]:\n",
    "            true_clusters[i] = 4\n",
    "            \n",
    "data['true_clusters'] = true_clusters\n",
    "data"
   ]
  },
  {
   "cell_type": "code",
   "execution_count": 94,
   "id": "b0c1f9b3-ac65-4e33-a1a0-e6cb98b8c8bd",
   "metadata": {},
   "outputs": [
    {
     "data": {
      "image/png": "[encoded data removed]",
      "text/plain": [
       "<Figure size 800x600 with 1 Axes>"
      ]
     },
     "metadata": {},
     "output_type": "display_data"
    }
   ],
   "source": [
    "plt.figure(figsize=(8, 6))\n",
    "for i in range(5):\n",
    "    plt.scatter(k_tfidf_sep[data['true_clusters'] == i]['PC1'], \n",
    "                k_tfidf_sep[data['true_clusters'] == i]['PC2'],\n",
    "                label= unique_genre[i], alpha=0.6)\n",
    "#plt.scatter(centroids_bow_all[:, 0], centroids_bow_all[:, 1], marker='X', s=200, c='black', label='Centroids')\n",
    "plt.title('pca accuracy plot for tfidf seperate')\n",
    "plt.xlabel('Principal Component 1 (Keyword 1)')\n",
    "plt.ylabel('Principal Component 2 (Keyword 1)')\n",
    "plt.legend()\n",
    "plt.grid()\n",
    "plt.show()"
   ]
  },
  {
   "cell_type": "code",
   "execution_count": 95,
   "id": "8209f52f-c3c2-4e46-9073-84eda81d7c0a",
   "metadata": {},
   "outputs": [
    {
     "data": {
      "image/png": "[encoded data removed]",
      "text/plain": [
       "<Figure size 800x600 with 1 Axes>"
      ]
     },
     "metadata": {},
     "output_type": "display_data"
    }
   ],
   "source": [
    "plt.figure(figsize=(8, 6))\n",
    "for i in range(5):\n",
    "    plt.scatter(k_bow_sep[data['true_clusters'] == i]['PC1'], \n",
    "                k_bow_sep[data['true_clusters'] == i]['PC2'],\n",
    "                label= unique_genre[i], alpha=0.6)\n",
    "#plt.scatter(centroids_bow_all[:, 0], centroids_bow_all[:, 1], marker='X', s=200, c='black', label='Centroids')\n",
    "plt.title('pca accuracy plot for bow seperate')\n",
    "plt.xlabel('Principal Component 1 (Keyword 1)')\n",
    "plt.ylabel('Principal Component 2 (Keyword 1)')\n",
    "plt.legend()\n",
    "plt.grid()\n",
    "plt.show()"
   ]
  },
  {
   "cell_type": "markdown",
   "id": "f835ac0d",
   "metadata": {},
   "source": [
    "## Application of the machine learning algo"
   ]
  },
  {
   "cell_type": "code",
   "execution_count": 96,
   "id": "5e296764",
   "metadata": {},
   "outputs": [],
   "source": [
    "def weight(kw_inp, word_column ,data = data.copy()):\n",
    "        kw_weightage = np.zeros(len(data))\n",
    "        for i,word in enumerate(word_column):\n",
    "            single =word.split()\n",
    "            for keyword in single:\n",
    "                if keyword == kw_inp:\n",
    "                    kw_weightage[i] += 1\n",
    "        return kw_weightage\n",
    "\n",
    "def weightage(kw1_inp,kw2_inp,kw3_inp,data1=data.copy()):\n",
    "        kw1_weightage = weight(kw1_inp,data1['keyword_1'])\n",
    "        kw2_weightage = weight(kw2_inp,data1['keyword_2'])\n",
    "        kw3_weightage = weight(kw3_inp,data1['keyword_3'])\n",
    "        weightage =((kw1_weightage) + (kw2_weightage) + (kw3_weightage))\n",
    "        return weightage\n",
    "\n",
    "def genre_predictor(weightage,soham,data1=data.copy()):\n",
    "        pc1_expected = 0\n",
    "        pc2_expected = 0\n",
    "        data1['weightage'] = weightage\n",
    "        for i, value in enumerate(soham['PC1']*data1['weightage']):\n",
    "                pc1_expected +=value\n",
    "        pc1_expected = pc1_expected/len(data1)\n",
    "        for i , value in enumerate(soham['PC2']*data1['weightage']):\n",
    "                pc2_expected +=value\n",
    "        pc2_expected = pc2_expected/len(data1)\n",
    "        combine = {\n",
    "              'PC1': [pc1_expected],\n",
    "              'PC2': [pc2_expected]}\n",
    "        combine_df = pd.DataFrame(combine)\n",
    "        soham = pd.concat([soham, combine_df], ignore_index=True)\n",
    "        labels =kmeans(soham.to_numpy())[0]\n",
    "        soham['cluster'] = labels\n",
    "        \n",
    "        return soham['cluster'][147]"
   ]
  },
  {
   "cell_type": "code",
   "execution_count": 97,
   "id": "65898093",
   "metadata": {},
   "outputs": [],
   "source": [
    "def accuracy(data1 = data.copy()):\n",
    "    correct = 0\n",
    "    for i in range(len(data1)):\n",
    "        weightage1 = weightage(data1['keyword_1'][i],data1['keyword_2'][i],data1['keyword_3'][i])\n",
    "        prediction = genre_predictor(weightage1,k_tfidf_sep)\n",
    "        row = tfidf_sep_truth.loc[prediction]\n",
    "        max_per = max(row)\n",
    "        max_percent_ind = [i for i, som1 in enumerate(row) if som1 == max_per]\n",
    "        expected = []\n",
    "        for index in max_percent_ind:\n",
    "            expected.append(bank[index])\n",
    "        for word in expected:\n",
    "            if word == data1['genre'][i]:\n",
    "                correct += 1\n",
    "\n",
    "    return correct/len(data1)*100"
   ]
  },
  {
   "cell_type": "code",
   "execution_count": 98,
   "id": "8eaab833-94b8-4bd2-8c5d-59f0a4b17ac5",
   "metadata": {},
   "outputs": [
    {
     "name": "stdout",
     "output_type": "stream",
     "text": [
      "max_score = 0.31282005575307503\n",
      "BoW,Cluster = 3\n",
      "genre\n",
      "classical    18.518519\n",
      "country      18.518519\n",
      "hip-hop      29.629630\n",
      "pop           0.000000\n",
      "rock         33.333333\n",
      "Name: 3, dtype: float64\n",
      "Expected Genres: ['rock']\n"
     ]
    }
   ],
   "source": [
    "kw1_inp = 'guitar' #input(\"enter 1st keyword\")\n",
    "kw2_inp = 'happy'  #input(\"enter 2nd keyword\")\n",
    "kw3_inp = 'upbeat'  #input(\"enter 3rd keyword\")\n",
    "\n",
    "bank = ['classical', 'country', 'hip-hop', 'pop', 'rock']\n",
    "#answer = country\n",
    "\n",
    "scores=[score_tf,score_bow]\n",
    "max_score = max(scores)\n",
    "print(f'max_score = {max_score}')\n",
    "if max_score == score_tf:\n",
    "    soham = pd.DataFrame(tfidf_pca_array, columns=['PC1', 'PC2'])\n",
    "    results = genre_predictor(weightage(kw1_inp,kw2_inp,kw3_inp),soham)\n",
    "    print(f'TF-IDF,Cluster = {results}')\n",
    "    row = tfidf_sep_truth.loc[results]\n",
    "    print(row)\n",
    "    max_per = max(row)\n",
    "    max_percent_ind = [i for i, som1 in enumerate(row) if som1 == max_per]\n",
    "    expected = []\n",
    "    for index in max_percent_ind:\n",
    "        expected.append(bank[index])\n",
    "    print(f\"Expected Genres: {expected}\")\n",
    "\n",
    "\n",
    "if max_score == score_bow :\n",
    "    soham = pd.DataFrame(bow_pca_array, columns=['PC1', 'PC2'])\n",
    "    results = genre_predictor(weightage(kw1_inp,kw2_inp,kw3_inp),soham)\n",
    "    print(f'BoW,Cluster = {results}')\n",
    "    row = bow_sep_truth.loc[results]\n",
    "    print(row)\n",
    "    max_per = max(row)\n",
    "    max_percent_ind = [i for i, som1 in enumerate(row) if som1 == max_per]\n",
    "    expected = []\n",
    "    for index in max_percent_ind:\n",
    "        expected.append(bank[index])\n",
    "    print(f\"Expected Genres: {expected}\")"
   ]
  },
  {
   "cell_type": "code",
   "execution_count": 99,
   "id": "1d79d32e",
   "metadata": {},
   "outputs": [
    {
     "name": "stderr",
     "output_type": "stream",
     "text": [
      "C:\\Users\\agarw\\AppData\\Local\\Temp\\ipykernel_46244\\836203618.py:8: RuntimeWarning: Mean of empty slice.\n",
      "  new_centroids = np.array([data[labels == i].mean(axis=0) for i in range(k)])\n",
      "c:\\Users\\agarw\\AppData\\Local\\Programs\\Python\\Python312\\Lib\\site-packages\\numpy\\_core\\_methods.py:130: RuntimeWarning: invalid value encountered in divide\n",
      "  ret = um.true_divide(\n",
      "C:\\Users\\agarw\\AppData\\Local\\Temp\\ipykernel_46244\\836203618.py:8: RuntimeWarning: Mean of empty slice.\n",
      "  new_centroids = np.array([data[labels == i].mean(axis=0) for i in range(k)])\n",
      "c:\\Users\\agarw\\AppData\\Local\\Programs\\Python\\Python312\\Lib\\site-packages\\numpy\\_core\\_methods.py:130: RuntimeWarning: invalid value encountered in divide\n",
      "  ret = um.true_divide(\n",
      "C:\\Users\\agarw\\AppData\\Local\\Temp\\ipykernel_46244\\836203618.py:8: RuntimeWarning: Mean of empty slice.\n",
      "  new_centroids = np.array([data[labels == i].mean(axis=0) for i in range(k)])\n",
      "c:\\Users\\agarw\\AppData\\Local\\Programs\\Python\\Python312\\Lib\\site-packages\\numpy\\_core\\_methods.py:130: RuntimeWarning: invalid value encountered in divide\n",
      "  ret = um.true_divide(\n",
      "C:\\Users\\agarw\\AppData\\Local\\Temp\\ipykernel_46244\\836203618.py:8: RuntimeWarning: Mean of empty slice.\n",
      "  new_centroids = np.array([data[labels == i].mean(axis=0) for i in range(k)])\n",
      "c:\\Users\\agarw\\AppData\\Local\\Programs\\Python\\Python312\\Lib\\site-packages\\numpy\\_core\\_methods.py:130: RuntimeWarning: invalid value encountered in divide\n",
      "  ret = um.true_divide(\n",
      "C:\\Users\\agarw\\AppData\\Local\\Temp\\ipykernel_46244\\836203618.py:8: RuntimeWarning: Mean of empty slice.\n",
      "  new_centroids = np.array([data[labels == i].mean(axis=0) for i in range(k)])\n",
      "c:\\Users\\agarw\\AppData\\Local\\Programs\\Python\\Python312\\Lib\\site-packages\\numpy\\_core\\_methods.py:130: RuntimeWarning: invalid value encountered in divide\n",
      "  ret = um.true_divide(\n",
      "C:\\Users\\agarw\\AppData\\Local\\Temp\\ipykernel_46244\\836203618.py:8: RuntimeWarning: Mean of empty slice.\n",
      "  new_centroids = np.array([data[labels == i].mean(axis=0) for i in range(k)])\n",
      "c:\\Users\\agarw\\AppData\\Local\\Programs\\Python\\Python312\\Lib\\site-packages\\numpy\\_core\\_methods.py:130: RuntimeWarning: invalid value encountered in divide\n",
      "  ret = um.true_divide(\n",
      "C:\\Users\\agarw\\AppData\\Local\\Temp\\ipykernel_46244\\836203618.py:8: RuntimeWarning: Mean of empty slice.\n",
      "  new_centroids = np.array([data[labels == i].mean(axis=0) for i in range(k)])\n",
      "c:\\Users\\agarw\\AppData\\Local\\Programs\\Python\\Python312\\Lib\\site-packages\\numpy\\_core\\_methods.py:130: RuntimeWarning: invalid value encountered in divide\n",
      "  ret = um.true_divide(\n",
      "C:\\Users\\agarw\\AppData\\Local\\Temp\\ipykernel_46244\\836203618.py:8: RuntimeWarning: Mean of empty slice.\n",
      "  new_centroids = np.array([data[labels == i].mean(axis=0) for i in range(k)])\n",
      "c:\\Users\\agarw\\AppData\\Local\\Programs\\Python\\Python312\\Lib\\site-packages\\numpy\\_core\\_methods.py:130: RuntimeWarning: invalid value encountered in divide\n",
      "  ret = um.true_divide(\n"
     ]
    },
    {
     "data": {
      "text/plain": [
       "40.816326530612244"
      ]
     },
     "execution_count": 99,
     "metadata": {},
     "output_type": "execute_result"
    }
   ],
   "source": [
    "accuracy()"
   ]
  },
  {
   "cell_type": "code",
   "execution_count": 100,
   "id": "0d365fe0",
   "metadata": {},
   "outputs": [
    {
     "name": "stdout",
     "output_type": "stream",
     "text": [
      "[[ 0.23559987  0.09772095]\n",
      " [ 0.3058054  -1.48906552]\n",
      " [-1.01887416  2.07218305]\n",
      " [ 0.18912997 -0.03801047]\n",
      " [ 0.20635613  0.01341837]]\n"
     ]
    }
   ],
   "source": [
    "print(centro)"
   ]
  },
  {
   "cell_type": "markdown",
   "id": "9bd9f0bf-9ab9-4e35-890a-2f7dded490af",
   "metadata": {
    "jp-MarkdownHeadingCollapsed": true
   },
   "source": [
    "## dataframes /required visual attachments for reports "
   ]
  },
  {
   "cell_type": "code",
   "execution_count": 101,
   "id": "73615e6d-906e-4d07-b733-6e8f14ccbf30",
   "metadata": {},
   "outputs": [
    {
     "data": {
      "text/html": [
       "<div>\n",
       "<style scoped>\n",
       "    .dataframe tbody tr th:only-of-type {\n",
       "        vertical-align: middle;\n",
       "    }\n",
       "\n",
       "    .dataframe tbody tr th {\n",
       "        vertical-align: top;\n",
       "    }\n",
       "\n",
       "    .dataframe thead th {\n",
       "        text-align: right;\n",
       "    }\n",
       "</style>\n",
       "<table border=\"1\" class=\"dataframe\">\n",
       "  <thead>\n",
       "    <tr style=\"text-align: right;\">\n",
       "      <th></th>\n",
       "      <th>guitar</th>\n",
       "      <th>brass</th>\n",
       "      <th>banjo</th>\n",
       "      <th>synth</th>\n",
       "      <th>violin</th>\n",
       "      <th>piano</th>\n",
       "    </tr>\n",
       "  </thead>\n",
       "  <tbody>\n",
       "    <tr>\n",
       "      <th>guitar</th>\n",
       "      <td>1.006849</td>\n",
       "      <td>-0.254942</td>\n",
       "      <td>-0.184918</td>\n",
       "      <td>-0.576410</td>\n",
       "      <td>-0.242189</td>\n",
       "      <td>-0.267262</td>\n",
       "    </tr>\n",
       "    <tr>\n",
       "      <th>brass</th>\n",
       "      <td>-0.254942</td>\n",
       "      <td>1.006849</td>\n",
       "      <td>-0.059069</td>\n",
       "      <td>-0.184123</td>\n",
       "      <td>-0.077363</td>\n",
       "      <td>-0.085372</td>\n",
       "    </tr>\n",
       "    <tr>\n",
       "      <th>banjo</th>\n",
       "      <td>-0.184918</td>\n",
       "      <td>-0.059069</td>\n",
       "      <td>1.006849</td>\n",
       "      <td>-0.133551</td>\n",
       "      <td>-0.056114</td>\n",
       "      <td>-0.061923</td>\n",
       "    </tr>\n",
       "    <tr>\n",
       "      <th>synth</th>\n",
       "      <td>-0.576410</td>\n",
       "      <td>-0.184123</td>\n",
       "      <td>-0.133551</td>\n",
       "      <td>1.006849</td>\n",
       "      <td>-0.174913</td>\n",
       "      <td>-0.193022</td>\n",
       "    </tr>\n",
       "    <tr>\n",
       "      <th>violin</th>\n",
       "      <td>-0.242189</td>\n",
       "      <td>-0.077363</td>\n",
       "      <td>-0.056114</td>\n",
       "      <td>-0.174913</td>\n",
       "      <td>1.006849</td>\n",
       "      <td>-0.081101</td>\n",
       "    </tr>\n",
       "    <tr>\n",
       "      <th>piano</th>\n",
       "      <td>-0.267262</td>\n",
       "      <td>-0.085372</td>\n",
       "      <td>-0.061923</td>\n",
       "      <td>-0.193022</td>\n",
       "      <td>-0.081101</td>\n",
       "      <td>1.006849</td>\n",
       "    </tr>\n",
       "  </tbody>\n",
       "</table>\n",
       "</div>"
      ],
      "text/plain": [
       "          guitar     brass     banjo     synth    violin     piano\n",
       "guitar  1.006849 -0.254942 -0.184918 -0.576410 -0.242189 -0.267262\n",
       "brass  -0.254942  1.006849 -0.059069 -0.184123 -0.077363 -0.085372\n",
       "banjo  -0.184918 -0.059069  1.006849 -0.133551 -0.056114 -0.061923\n",
       "synth  -0.576410 -0.184123 -0.133551  1.006849 -0.174913 -0.193022\n",
       "violin -0.242189 -0.077363 -0.056114 -0.174913  1.006849 -0.081101\n",
       "piano  -0.267262 -0.085372 -0.061923 -0.193022 -0.081101  1.006849"
      ]
     },
     "execution_count": 101,
     "metadata": {},
     "output_type": "execute_result"
    }
   ],
   "source": [
    "cov_array_kw1 = np.cov(standardize_data(tfidf_kw1), rowvar=False)\n",
    "pd.DataFrame(cov_array_kw1,columns = unique_kw1,index=unique_kw1)"
   ]
  },
  {
   "cell_type": "code",
   "execution_count": 102,
   "id": "1e1f54cb-1c5e-47e2-8654-2f61970c50c8",
   "metadata": {},
   "outputs": [
    {
     "data": {
      "text/plain": [
       "array([-8.88178420e-16,  1.60047918e+00,  1.20986813e+00,  1.05466186e+00,\n",
       "        1.08343320e+00,  1.09265352e+00])"
      ]
     },
     "execution_count": 102,
     "metadata": {},
     "output_type": "execute_result"
    }
   ],
   "source": [
    "eigenvalues, eigenvectors = np.linalg.eig(cov_array_kw1)\n",
    "eigenvalues"
   ]
  },
  {
   "cell_type": "code",
   "execution_count": 103,
   "id": "92f079d4-8a9a-479c-bb8d-5a97a6b7fcaa",
   "metadata": {},
   "outputs": [
    {
     "data": {
      "text/html": [
       "<div>\n",
       "<style scoped>\n",
       "    .dataframe tbody tr th:only-of-type {\n",
       "        vertical-align: middle;\n",
       "    }\n",
       "\n",
       "    .dataframe tbody tr th {\n",
       "        vertical-align: top;\n",
       "    }\n",
       "\n",
       "    .dataframe thead th {\n",
       "        text-align: right;\n",
       "    }\n",
       "</style>\n",
       "<table border=\"1\" class=\"dataframe\">\n",
       "  <thead>\n",
       "    <tr style=\"text-align: right;\">\n",
       "      <th></th>\n",
       "      <th>0</th>\n",
       "      <th>1</th>\n",
       "      <th>2</th>\n",
       "      <th>3</th>\n",
       "      <th>4</th>\n",
       "      <th>5</th>\n",
       "    </tr>\n",
       "  </thead>\n",
       "  <tbody>\n",
       "    <tr>\n",
       "      <th>0</th>\n",
       "      <td>-0.593454</td>\n",
       "      <td>-0.755961</td>\n",
       "      <td>-0.274497</td>\n",
       "      <td>0.026789</td>\n",
       "      <td>-0.011433</td>\n",
       "      <td>0.011776</td>\n",
       "    </tr>\n",
       "    <tr>\n",
       "      <th>1</th>\n",
       "      <td>-0.314405</td>\n",
       "      <td>0.096405</td>\n",
       "      <td>0.429169</td>\n",
       "      <td>0.190953</td>\n",
       "      <td>-0.543022</td>\n",
       "      <td>-0.613460</td>\n",
       "    </tr>\n",
       "    <tr>\n",
       "      <th>2</th>\n",
       "      <td>-0.236433</td>\n",
       "      <td>0.065026</td>\n",
       "      <td>0.236291</td>\n",
       "      <td>-0.937434</td>\n",
       "      <td>0.056648</td>\n",
       "      <td>-0.045241</td>\n",
       "    </tr>\n",
       "    <tr>\n",
       "      <th>3</th>\n",
       "      <td>-0.543593</td>\n",
       "      <td>0.629543</td>\n",
       "      <td>-0.553161</td>\n",
       "      <td>0.039396</td>\n",
       "      <td>-0.017537</td>\n",
       "      <td>0.018331</td>\n",
       "    </tr>\n",
       "    <tr>\n",
       "      <th>4</th>\n",
       "      <td>-0.300873</td>\n",
       "      <td>0.090184</td>\n",
       "      <td>0.382697</td>\n",
       "      <td>0.237514</td>\n",
       "      <td>0.809768</td>\n",
       "      <td>-0.206755</td>\n",
       "    </tr>\n",
       "    <tr>\n",
       "      <th>5</th>\n",
       "      <td>-0.327175</td>\n",
       "      <td>0.102680</td>\n",
       "      <td>0.481859</td>\n",
       "      <td>0.161469</td>\n",
       "      <td>-0.213905</td>\n",
       "      <td>0.760524</td>\n",
       "    </tr>\n",
       "  </tbody>\n",
       "</table>\n",
       "</div>"
      ],
      "text/plain": [
       "          0         1         2         3         4         5\n",
       "0 -0.593454 -0.755961 -0.274497  0.026789 -0.011433  0.011776\n",
       "1 -0.314405  0.096405  0.429169  0.190953 -0.543022 -0.613460\n",
       "2 -0.236433  0.065026  0.236291 -0.937434  0.056648 -0.045241\n",
       "3 -0.543593  0.629543 -0.553161  0.039396 -0.017537  0.018331\n",
       "4 -0.300873  0.090184  0.382697  0.237514  0.809768 -0.206755\n",
       "5 -0.327175  0.102680  0.481859  0.161469 -0.213905  0.760524"
      ]
     },
     "execution_count": 103,
     "metadata": {},
     "output_type": "execute_result"
    }
   ],
   "source": [
    "pd.DataFrame(eigenvectors)"
   ]
  },
  {
   "cell_type": "code",
   "execution_count": 104,
   "id": "b866f88b-93ec-4e63-b626-84859a6c9e7e",
   "metadata": {},
   "outputs": [
    {
     "data": {
      "text/html": [
       "<div>\n",
       "<style scoped>\n",
       "    .dataframe tbody tr th:only-of-type {\n",
       "        vertical-align: middle;\n",
       "    }\n",
       "\n",
       "    .dataframe tbody tr th {\n",
       "        vertical-align: top;\n",
       "    }\n",
       "\n",
       "    .dataframe thead th {\n",
       "        text-align: right;\n",
       "    }\n",
       "</style>\n",
       "<table border=\"1\" class=\"dataframe\">\n",
       "  <thead>\n",
       "    <tr style=\"text-align: right;\">\n",
       "      <th></th>\n",
       "      <th>PC1</th>\n",
       "      <th>PC2</th>\n",
       "    </tr>\n",
       "  </thead>\n",
       "  <tbody>\n",
       "    <tr>\n",
       "      <th>0</th>\n",
       "      <td>0.298860</td>\n",
       "      <td>0.065916</td>\n",
       "    </tr>\n",
       "    <tr>\n",
       "      <th>1</th>\n",
       "      <td>0.033330</td>\n",
       "      <td>0.118943</td>\n",
       "    </tr>\n",
       "    <tr>\n",
       "      <th>2</th>\n",
       "      <td>-0.721616</td>\n",
       "      <td>0.390744</td>\n",
       "    </tr>\n",
       "    <tr>\n",
       "      <th>3</th>\n",
       "      <td>0.270539</td>\n",
       "      <td>0.070045</td>\n",
       "    </tr>\n",
       "    <tr>\n",
       "      <th>4</th>\n",
       "      <td>0.270539</td>\n",
       "      <td>0.070045</td>\n",
       "    </tr>\n",
       "    <tr>\n",
       "      <th>...</th>\n",
       "      <td>...</td>\n",
       "      <td>...</td>\n",
       "    </tr>\n",
       "    <tr>\n",
       "      <th>142</th>\n",
       "      <td>0.270539</td>\n",
       "      <td>0.070045</td>\n",
       "    </tr>\n",
       "    <tr>\n",
       "      <th>143</th>\n",
       "      <td>0.298860</td>\n",
       "      <td>0.065916</td>\n",
       "    </tr>\n",
       "    <tr>\n",
       "      <th>144</th>\n",
       "      <td>0.298860</td>\n",
       "      <td>0.065916</td>\n",
       "    </tr>\n",
       "    <tr>\n",
       "      <th>145</th>\n",
       "      <td>0.270539</td>\n",
       "      <td>0.070045</td>\n",
       "    </tr>\n",
       "    <tr>\n",
       "      <th>146</th>\n",
       "      <td>0.270539</td>\n",
       "      <td>0.070045</td>\n",
       "    </tr>\n",
       "  </tbody>\n",
       "</table>\n",
       "<p>147 rows × 2 columns</p>\n",
       "</div>"
      ],
      "text/plain": [
       "          PC1       PC2\n",
       "0    0.298860  0.065916\n",
       "1    0.033330  0.118943\n",
       "2   -0.721616  0.390744\n",
       "3    0.270539  0.070045\n",
       "4    0.270539  0.070045\n",
       "..        ...       ...\n",
       "142  0.270539  0.070045\n",
       "143  0.298860  0.065916\n",
       "144  0.298860  0.065916\n",
       "145  0.270539  0.070045\n",
       "146  0.270539  0.070045\n",
       "\n",
       "[147 rows x 2 columns]"
      ]
     },
     "execution_count": 104,
     "metadata": {},
     "output_type": "execute_result"
    }
   ],
   "source": [
    "pd.DataFrame(pca_1,columns = [\"PC1\",\"PC2\"])"
   ]
  },
  {
   "cell_type": "code",
   "execution_count": 105,
   "id": "01ac0f8d-1fe8-4a51-92c4-ae391eacb371",
   "metadata": {},
   "outputs": [
    {
     "data": {
      "image/png": "[encoded data removed]",
      "text/plain": [
       "<Figure size 800x600 with 1 Axes>"
      ]
     },
     "metadata": {},
     "output_type": "display_data"
    }
   ],
   "source": [
    "sample = pd.DataFrame(pca_1,columns = [\"PC1\",\"PC2\"])\n",
    "plt.figure(figsize=(8, 6))\n",
    "plt.scatter(sample['PC1'], sample['PC2'], alpha=0.5)\n",
    "plt.title('PCA Result (2D)')\n",
    "plt.xlabel('Principal Component 1 (PC1)')\n",
    "plt.ylabel('Principal Component 2 (PC2)')\n",
    "plt.grid()\n",
    "plt.show()"
   ]
  }
 ],
 "metadata": {
  "kernelspec": {
   "display_name": "Python 3",
   "language": "python",
   "name": "python3"
  },
  "language_info": {
   "codemirror_mode": {
    "name": "ipython",
    "version": 3
   },
   "file_extension": ".py",
   "mimetype": "text/x-python",
   "name": "python",
   "nbconvert_exporter": "python",
   "pygments_lexer": "ipython3",
   "version": "3.12.8"
  }
 },
 "nbformat": 4,
 "nbformat_minor": 5
}
